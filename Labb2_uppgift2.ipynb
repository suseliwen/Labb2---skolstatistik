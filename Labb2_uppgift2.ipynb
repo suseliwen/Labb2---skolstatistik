{
 "cells": [
  {
   "cell_type": "markdown",
   "metadata": {},
   "source": [
    " ### Uppgift 2   \n",
    " I uppgifterna nedan ska du använda dig av datasetet betyg_o_prov_riksnivå.xlsx.   \n",
    " Använd Plotly för att rita diagrammen nedan för de uppgifter som kräver diagram.   \n",
    " Använd Pandas för att svara på frågor om datasetet.   \n",
    "\n",
    "  a) Rita ett linjediagram för andel elever som saknar godkänt betyg i ett eller fler ämnen för läsår 18-23.    \n",
    "  Ta med totalt, flickor och pojkar i samma graf.   \n",
    "\n",
    "  b) Rita ett linjediagram för meritvärde för 16 ämnen för totalt, flickor och pojkar för läsår 18-23.   \n",
    "\n",
    "  c) (bonus) Undersök nu andra variabler, och hur de påverkar meritvärde och andel med minst ett saknat betyg.    \n",
    "  Data  finns för läsår 22/23. Exempel kan man undersöka föräldrarnas utbildningsbakgrund. Rita lämpliga grafer.\n",
    "\n",
    "  ========================TA BORT CELLEN NÄR UPPGIFTEN ÄR KLAR=========================================   "
   ]
  },
  {
   "cell_type": "markdown",
   "metadata": {},
   "source": [
    "### Läser in data från Excelfilen\n",
    "I den här delen hämtas data från Excelfilen.    \n",
    "Endast data från en av bladen (Tabell 1B) ska användas. "
   ]
  },
  {
   "cell_type": "code",
   "execution_count": 30,
   "metadata": {},
   "outputs": [],
   "source": [
    "import pandas as pd\n",
    "import matplotlib.pyplot as plt\n",
    "import seaborn as sns\n"
   ]
  },
  {
   "cell_type": "code",
   "execution_count": 31,
   "metadata": {},
   "outputs": [
    {
     "name": "stdout",
     "output_type": "stream",
     "text": [
      "['Tabell 1A', 'Tabell 1B', 'Definitioner']\n"
     ]
    }
   ],
   "source": [
    "#Läser in Excelfilen för att se vilka sheets/blad som finns i filen\n",
    "sheets = pd.ExcelFile(\"data/betyg_o_prov_riksnivå (1).xlsx\").sheet_names\n",
    "print(sheets)  "
   ]
  },
  {
   "cell_type": "code",
   "execution_count": 52,
   "metadata": {},
   "outputs": [
    {
     "data": {
      "text/plain": [
       "pandas.core.frame.DataFrame"
      ]
     },
     "execution_count": 52,
     "metadata": {},
     "output_type": "execute_result"
    }
   ],
   "source": [
    "df = pd.read_excel(\"data/betyg_o_prov_riksnivå (1).xlsx\", sheet_name = \"Tabell 1B\", header= 7) \n",
    "df.head(7)\n",
    "type(df)"
   ]
  },
  {
   "cell_type": "markdown",
   "metadata": {},
   "source": [
    "##### Bearbetning av datan \n",
    "Ändrar namn på kolumnerna och skapar nya dataframes, som enbart innehåller information som är nödvändiga för uppgifterna"
   ]
  },
  {
   "cell_type": "code",
   "execution_count": null,
   "metadata": {},
   "outputs": [
    {
     "data": {
      "text/html": [
       "<div>\n",
       "<style scoped>\n",
       "    .dataframe tbody tr th:only-of-type {\n",
       "        vertical-align: middle;\n",
       "    }\n",
       "\n",
       "    .dataframe tbody tr th {\n",
       "        vertical-align: top;\n",
       "    }\n",
       "\n",
       "    .dataframe thead th {\n",
       "        text-align: right;\n",
       "    }\n",
       "</style>\n",
       "<table border=\"1\" class=\"dataframe\">\n",
       "  <thead>\n",
       "    <tr style=\"text-align: right;\">\n",
       "      <th></th>\n",
       "      <th>Läsår</th>\n",
       "      <th>Meritvärde genomsnitt 16 ämnen: Totalt</th>\n",
       "      <th>Meritvärde genomsnitt 16 ämnen: Flickor</th>\n",
       "      <th>Meritvärde genomsnitt 16 ämnen: Pojkar</th>\n",
       "      <th>Meritvärde genomsnitt 17 ämnen: Totalt</th>\n",
       "      <th>Meritvärde genomsnitt 17 ämnen: Flickor</th>\n",
       "      <th>Meritvärde genomsnitt 17 ämnen: Pojkar</th>\n",
       "      <th>Andel (%) som saknar godkänt betyg: Totalt</th>\n",
       "      <th>Andel (%) som saknar godkänt betyg: Flickor</th>\n",
       "      <th>Andel (%) som saknar godkänt betyg: Pojkar</th>\n",
       "    </tr>\n",
       "  </thead>\n",
       "  <tbody>\n",
       "    <tr>\n",
       "      <th>0</th>\n",
       "      <td>2018/19</td>\n",
       "      <td>221.7</td>\n",
       "      <td>234.3</td>\n",
       "      <td>209.8</td>\n",
       "      <td>229.8</td>\n",
       "      <td>243.3</td>\n",
       "      <td>217.0</td>\n",
       "      <td>24.5</td>\n",
       "      <td>21.7</td>\n",
       "      <td>27.2</td>\n",
       "    </tr>\n",
       "    <tr>\n",
       "      <th>1</th>\n",
       "      <td>2019/20</td>\n",
       "      <td>222.9</td>\n",
       "      <td>235.7</td>\n",
       "      <td>210.9</td>\n",
       "      <td>231.1</td>\n",
       "      <td>244.9</td>\n",
       "      <td>218.2</td>\n",
       "      <td>23.9</td>\n",
       "      <td>21.4</td>\n",
       "      <td>26.3</td>\n",
       "    </tr>\n",
       "    <tr>\n",
       "      <th>2</th>\n",
       "      <td>2020/21</td>\n",
       "      <td>223.9</td>\n",
       "      <td>235.4</td>\n",
       "      <td>212.9</td>\n",
       "      <td>232.1</td>\n",
       "      <td>244.4</td>\n",
       "      <td>220.3</td>\n",
       "      <td>23.9</td>\n",
       "      <td>21.9</td>\n",
       "      <td>25.9</td>\n",
       "    </tr>\n",
       "    <tr>\n",
       "      <th>3</th>\n",
       "      <td>2021/22</td>\n",
       "      <td>221.2</td>\n",
       "      <td>231.6</td>\n",
       "      <td>211.4</td>\n",
       "      <td>229.2</td>\n",
       "      <td>240.3</td>\n",
       "      <td>218.8</td>\n",
       "      <td>25.9</td>\n",
       "      <td>24.2</td>\n",
       "      <td>27.5</td>\n",
       "    </tr>\n",
       "    <tr>\n",
       "      <th>4</th>\n",
       "      <td>2022/23</td>\n",
       "      <td>220.6</td>\n",
       "      <td>229.7</td>\n",
       "      <td>211.9</td>\n",
       "      <td>228.5</td>\n",
       "      <td>238.2</td>\n",
       "      <td>219.3</td>\n",
       "      <td>26.8</td>\n",
       "      <td>25.5</td>\n",
       "      <td>28.0</td>\n",
       "    </tr>\n",
       "  </tbody>\n",
       "</table>\n",
       "</div>"
      ],
      "text/plain": [
       "     Läsår  Meritvärde genomsnitt 16 ämnen: Totalt  \\\n",
       "0  2018/19                                   221.7   \n",
       "1  2019/20                                   222.9   \n",
       "2  2020/21                                   223.9   \n",
       "3  2021/22                                   221.2   \n",
       "4  2022/23                                   220.6   \n",
       "\n",
       "   Meritvärde genomsnitt 16 ämnen: Flickor  \\\n",
       "0                                    234.3   \n",
       "1                                    235.7   \n",
       "2                                    235.4   \n",
       "3                                    231.6   \n",
       "4                                    229.7   \n",
       "\n",
       "   Meritvärde genomsnitt 16 ämnen: Pojkar  \\\n",
       "0                                   209.8   \n",
       "1                                   210.9   \n",
       "2                                   212.9   \n",
       "3                                   211.4   \n",
       "4                                   211.9   \n",
       "\n",
       "   Meritvärde genomsnitt 17 ämnen: Totalt  \\\n",
       "0                                   229.8   \n",
       "1                                   231.1   \n",
       "2                                   232.1   \n",
       "3                                   229.2   \n",
       "4                                   228.5   \n",
       "\n",
       "   Meritvärde genomsnitt 17 ämnen: Flickor  \\\n",
       "0                                    243.3   \n",
       "1                                    244.9   \n",
       "2                                    244.4   \n",
       "3                                    240.3   \n",
       "4                                    238.2   \n",
       "\n",
       "   Meritvärde genomsnitt 17 ämnen: Pojkar  \\\n",
       "0                                   217.0   \n",
       "1                                   218.2   \n",
       "2                                   220.3   \n",
       "3                                   218.8   \n",
       "4                                   219.3   \n",
       "\n",
       "   Andel (%) som saknar godkänt betyg: Totalt  \\\n",
       "0                                        24.5   \n",
       "1                                        23.9   \n",
       "2                                        23.9   \n",
       "3                                        25.9   \n",
       "4                                        26.8   \n",
       "\n",
       "   Andel (%) som saknar godkänt betyg: Flickor  \\\n",
       "0                                         21.7   \n",
       "1                                         21.4   \n",
       "2                                         21.9   \n",
       "3                                         24.2   \n",
       "4                                         25.5   \n",
       "\n",
       "   Andel (%) som saknar godkänt betyg: Pojkar  \n",
       "0                                        27.2  \n",
       "1                                        26.3  \n",
       "2                                        25.9  \n",
       "3                                        27.5  \n",
       "4                                        28.0  "
      ]
     },
     "execution_count": 59,
     "metadata": {},
     "output_type": "execute_result"
    }
   ],
   "source": [
    "#Ändrar namn på kolumnerna, så jag ser vilken data som kolumnerna innehåller. \n",
    "\n",
    "df.rename(columns = {\n",
    "    \"Unnamed: 0\": \"Läsår\", \n",
    "    \"Totalt\": \"Meritvärde genomsnitt 16 ämnen: Totalt\",\n",
    "    \"Flickor\": \"Meritvärde genomsnitt 16 ämnen: Flickor\",\n",
    "    \"Pojkar\": \"Meritvärde genomsnitt 16 ämnen: Pojkar\",\n",
    "    \"Totalt.1\": \"Meritvärde genomsnitt 17 ämnen: Totalt\",\n",
    "    \"Flickor.1\": \"Meritvärde genomsnitt 17 ämnen: Flickor\",\n",
    "    \"Pojkar.1\": \"Meritvärde genomsnitt 17 ämnen: Pojkar\",\n",
    "    \"Totalt.2\": \"Andel (%) som saknar godkänt betyg: Totalt\",\n",
    "    \"Flickor.2\": \"Andel (%) som saknar godkänt betyg: Flickor\",\n",
    "    \"Pojkar.2\": \"Andel (%) som saknar godkänt betyg: Pojkar\"\n",
    "}, inplace=True)\n",
    "\n",
    "# Kontrollera resultatet\n",
    "df.head()\n",
    "\n",
    "\n",
    "\n"
   ]
  },
  {
   "cell_type": "markdown",
   "metadata": {},
   "source": [
    "##### Data och visualisering för uppgift 2 a"
   ]
  },
  {
   "cell_type": "code",
   "execution_count": 84,
   "metadata": {},
   "outputs": [],
   "source": [
    "#Skapar en ny datafram som enbart innehåller kolumnerna för elever som saknar betyg. \n",
    "df_saknar_betyg = df[[\"Läsår\", \"Andel (%) som saknar godkänt betyg: Totalt\",\"Andel (%) som saknar godkänt betyg: Flickor\", \"Andel (%) som saknar godkänt betyg: Pojkar\" ]]\n",
    "\n",
    "#Slicar raderna, så jag enbart får med de rader som innehåller läsår.\n",
    "new_df = df_saknar_betyg.iloc[:4, :]\n"
   ]
  },
  {
   "cell_type": "code",
   "execution_count": 85,
   "metadata": {},
   "outputs": [
    {
     "data": {
      "text/html": [
       "<div>\n",
       "<style scoped>\n",
       "    .dataframe tbody tr th:only-of-type {\n",
       "        vertical-align: middle;\n",
       "    }\n",
       "\n",
       "    .dataframe tbody tr th {\n",
       "        vertical-align: top;\n",
       "    }\n",
       "\n",
       "    .dataframe thead th {\n",
       "        text-align: right;\n",
       "    }\n",
       "</style>\n",
       "<table border=\"1\" class=\"dataframe\">\n",
       "  <thead>\n",
       "    <tr style=\"text-align: right;\">\n",
       "      <th></th>\n",
       "      <th>Läsår</th>\n",
       "      <th>Andel (%) som saknar godkänt betyg: Totalt</th>\n",
       "      <th>Andel (%) som saknar godkänt betyg: Flickor</th>\n",
       "      <th>Andel (%) som saknar godkänt betyg: Pojkar</th>\n",
       "    </tr>\n",
       "  </thead>\n",
       "  <tbody>\n",
       "    <tr>\n",
       "      <th>0</th>\n",
       "      <td>2018/19</td>\n",
       "      <td>24.5</td>\n",
       "      <td>21.7</td>\n",
       "      <td>27.2</td>\n",
       "    </tr>\n",
       "    <tr>\n",
       "      <th>1</th>\n",
       "      <td>2019/20</td>\n",
       "      <td>23.9</td>\n",
       "      <td>21.4</td>\n",
       "      <td>26.3</td>\n",
       "    </tr>\n",
       "    <tr>\n",
       "      <th>2</th>\n",
       "      <td>2020/21</td>\n",
       "      <td>23.9</td>\n",
       "      <td>21.9</td>\n",
       "      <td>25.9</td>\n",
       "    </tr>\n",
       "    <tr>\n",
       "      <th>3</th>\n",
       "      <td>2021/22</td>\n",
       "      <td>25.9</td>\n",
       "      <td>24.2</td>\n",
       "      <td>27.5</td>\n",
       "    </tr>\n",
       "  </tbody>\n",
       "</table>\n",
       "</div>"
      ],
      "text/plain": [
       "     Läsår  Andel (%) som saknar godkänt betyg: Totalt  \\\n",
       "0  2018/19                                        24.5   \n",
       "1  2019/20                                        23.9   \n",
       "2  2020/21                                        23.9   \n",
       "3  2021/22                                        25.9   \n",
       "\n",
       "   Andel (%) som saknar godkänt betyg: Flickor  \\\n",
       "0                                         21.7   \n",
       "1                                         21.4   \n",
       "2                                         21.9   \n",
       "3                                         24.2   \n",
       "\n",
       "   Andel (%) som saknar godkänt betyg: Pojkar  \n",
       "0                                        27.2  \n",
       "1                                        26.3  \n",
       "2                                        25.9  \n",
       "3                                        27.5  "
      ]
     },
     "execution_count": 85,
     "metadata": {},
     "output_type": "execute_result"
    }
   ],
   "source": [
    "new_df"
   ]
  },
  {
   "cell_type": "code",
   "execution_count": null,
   "metadata": {},
   "outputs": [
    {
     "data": {
      "image/png": "[encoded data removed]",
      "text/plain": [
       "<Figure size 1000x700 with 1 Axes>"
      ]
     },
     "metadata": {},
     "output_type": "display_data"
    }
   ],
   "source": [
    "#Skapar en plot\n",
    "x = new_df[\"Läsår\"]\n",
    "y = new_df[\"Andel (%) som saknar godkänt betyg: Totalt\"]\n",
    "y1 = new_df[\"Andel (%) som saknar godkänt betyg: Flickor\"]\n",
    "y2 = new_df[\"Andel (%) som saknar godkänt betyg: Pojkar\"]\n",
    "\n",
    "plt.style.use('seaborn-v0_8')\n",
    "plt.figure(figsize=(10, 7))\n",
    "\n",
    "#Plottar varje linje separat\n",
    "plt.plot(x, y, marker='p', linestyle='-', label=\"Totalt\")\n",
    "plt.plot(x, y1, marker='d', linestyle='--', label=\"Flickor\")\n",
    "plt.plot(x, y2, marker='s', linestyle='-.', label=\"Pojkar\")\n",
    "\n",
    "#Anpassningar diagrammet\n",
    "plt.xlabel(\"Läsår\", fontsize = 16,  fontstyle=\"italic\")  \n",
    "plt.ylabel(\"Andel elever (%)\", fontsize = 14,  fontstyle=\"italic\")  \n",
    "plt.title(\"Andel elever i åk 9, som saknar godkänt slutbetyg i ett eller fler ämnen, läsår 2018-2023\", fontsize= 14, fontweight=\"bold\")  \n",
    "plt.xticks(rotation=45)  \n",
    "plt.legend() \n",
    "plt.grid(True)  \n",
    "plt.tight_layout()  \n",
    "\n",
    "plt.show()  "
   ]
  },
  {
   "cell_type": "markdown",
   "metadata": {},
   "source": [
    "##### Data och visualisering för uppgift 2 b"
   ]
  }
 ],
 "metadata": {
  "kernelspec": {
   "display_name": "venv",
   "language": "python",
   "name": "python3"
  },
  "language_info": {
   "codemirror_mode": {
    "name": "ipython",
    "version": 3
   },
   "file_extension": ".py",
   "mimetype": "text/x-python",
   "name": "python",
   "nbconvert_exporter": "python",
   "pygments_lexer": "ipython3",
   "version": "3.12.2"
  }
 },
 "nbformat": 4,
 "nbformat_minor": 2
}
