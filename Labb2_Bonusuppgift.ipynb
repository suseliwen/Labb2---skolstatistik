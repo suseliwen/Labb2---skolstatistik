{
 "cells": [
  {
   "cell_type": "markdown",
   "metadata": {},
   "source": [
    " ### Uppgift 2 - BONUSUPPGIFT   \n",
    " I uppgifterna nedan ska du använda dig av datasetet betyg_o_prov_riksnivå.xlsx.   \n",
    " Använd Plotly för att rita diagrammen nedan för de uppgifter som kräver diagram.   \n",
    " Använd Pandas för att svara på frågor om datasetet.   \n",
    "\n",
    "Undersök nu andra variabler, och hur de påverkar meritvärde och andel med minst ett saknat betyg.       \n",
    "Data  finns för läsår 22/23. Exempel kan man undersöka föräldrarnas utbildningsbakgrund. Rita lämpliga grafer.\n"
   ]
  }
 ],
 "metadata": {
  "kernelspec": {
   "display_name": "venv",
   "language": "python",
   "name": "python3"
  },
  "language_info": {
   "codemirror_mode": {
    "name": "ipython",
    "version": 3
   },
   "file_extension": ".py",
   "mimetype": "text/x-python",
   "name": "python",
   "nbconvert_exporter": "python",
   "pygments_lexer": "ipython3",
   "version": "3.12.2"
  }
 },
 "nbformat": 4,
 "nbformat_minor": 2
}
