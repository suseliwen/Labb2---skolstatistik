{
 "cells": [
  {
   "cell_type": "markdown",
   "metadata": {},
   "source": [
    "### Läser in data från en Excelfil, som innehåller flera blad\n",
    "\n",
    "I det här steget hämtas data från Excelfilen.     \n",
    "Varje blad sparas som en egen Data Frame i en dictionary. \n"
   ]
  },
  {
   "cell_type": "code",
   "execution_count": 2,
   "metadata": {},
   "outputs": [],
   "source": [
    "import pandas as pd\n",
    "import matplotlib.pyplot as plt\n",
    "import seaborn as sns\n",
    "import openpyxl as op\n",
    "import numpy as np"
   ]
  },
  {
   "cell_type": "code",
   "execution_count": 3,
   "metadata": {},
   "outputs": [
    {
     "name": "stdout",
     "output_type": "stream",
     "text": [
      "['Engelska', 'Matematik', 'Svenska', 'Svenska som andraspråk', 'Rapportbeskrivning och def.']\n"
     ]
    }
   ],
   "source": [
    "#Läser in filen för att veta vilka sheets som filen innehåller, och som ska läsas in till programmet. \n",
    "sheets = pd.ExcelFile(\"data/riket2023_åk9_np.xlsx\").sheet_names\n",
    "print(sheets)  "
   ]
  },
  {
   "cell_type": "code",
   "execution_count": 4,
   "metadata": {},
   "outputs": [],
   "source": [
    "#Läser in excelfilen och sparar respektive sheet med hjälp av en for-loop. \n",
    "#Hämtar data från och med rad 8 för att enbart få med nödvändig data.\n",
    "#Väljer bort bladet \"Rapportbeskrivning... då det inte innehåller någon data som är relevant för uppgiften\"\n",
    "\n",
    "file = \"data/riket2023_åk9_np.xlsx\"\n",
    "sheets = ['Engelska', 'Matematik', 'Svenska', 'Svenska som andraspråk']"
   ]
  },
  {
   "cell_type": "code",
   "execution_count": 5,
   "metadata": {},
   "outputs": [],
   "source": [
    "#Sparar respektive data frame i en dictionary (data_frames)\n",
    "data_frames = {sheet: pd.read_excel(file, sheet_name= sheet, header = 8) for sheet in sheets} #Här har jag tagit hjälp av chatGPT, då jag ville läsa in samtliga sheets genom en loop och hade svårt att hitta information om hur jag kunde lösa det. "
   ]
  },
  {
   "cell_type": "markdown",
   "metadata": {},
   "source": [
    "Byter namn på tabellerna via en for-loop, för att inte upprepa samma kod flera gånger. "
   ]
  },
  {
   "cell_type": "code",
   "execution_count": 6,
   "metadata": {},
   "outputs": [],
   "source": [
    "#Ändrar namn på kolumnerna i enlighet med uppgiften.\n",
    "#Använder en for-loop som itererar respektive dataframe i min dictionary med dataframes för att byta namn på kolumnerna samtidigt. \n",
    "for sheet, df in data_frames.items():\n",
    "    df.columns = [\"Plats\", \"Huvudman\", \"Totalt (A-F)\", \"Flickor (A-F)\", \"Pojkar (A-F)\", \n",
    "    \"Totalt (A-E)\", \"Flickor (A-E)\", \"Pojkar (A-E)\", \n",
    "    \"Totalt (poäng)\", \"Flickor (poäng)\", \"Pojkar (poäng)\"]"
   ]
  },
  {
   "cell_type": "code",
   "execution_count": 7,
   "metadata": {},
   "outputs": [
    {
     "data": {
      "text/html": [
       "<div>\n",
       "<style scoped>\n",
       "    .dataframe tbody tr th:only-of-type {\n",
       "        vertical-align: middle;\n",
       "    }\n",
       "\n",
       "    .dataframe tbody tr th {\n",
       "        vertical-align: top;\n",
       "    }\n",
       "\n",
       "    .dataframe thead th {\n",
       "        text-align: right;\n",
       "    }\n",
       "</style>\n",
       "<table border=\"1\" class=\"dataframe\">\n",
       "  <thead>\n",
       "    <tr style=\"text-align: right;\">\n",
       "      <th></th>\n",
       "      <th>Plats</th>\n",
       "      <th>Huvudman</th>\n",
       "      <th>Totalt (A-F)</th>\n",
       "      <th>Flickor (A-F)</th>\n",
       "      <th>Pojkar (A-F)</th>\n",
       "      <th>Totalt (A-E)</th>\n",
       "      <th>Flickor (A-E)</th>\n",
       "      <th>Pojkar (A-E)</th>\n",
       "      <th>Totalt (poäng)</th>\n",
       "      <th>Flickor (poäng)</th>\n",
       "      <th>Pojkar (poäng)</th>\n",
       "    </tr>\n",
       "  </thead>\n",
       "  <tbody>\n",
       "    <tr>\n",
       "      <th>0</th>\n",
       "      <td>Riket</td>\n",
       "      <td>Samtliga</td>\n",
       "      <td>106941</td>\n",
       "      <td>51864</td>\n",
       "      <td>55077</td>\n",
       "      <td>97.0</td>\n",
       "      <td>97.1</td>\n",
       "      <td>97.0</td>\n",
       "      <td>15.7</td>\n",
       "      <td>15.8</td>\n",
       "      <td>15.7</td>\n",
       "    </tr>\n",
       "    <tr>\n",
       "      <th>1</th>\n",
       "      <td>Riket</td>\n",
       "      <td>Kommunal</td>\n",
       "      <td>84310</td>\n",
       "      <td>40675</td>\n",
       "      <td>43635</td>\n",
       "      <td>96.6</td>\n",
       "      <td>96.6</td>\n",
       "      <td>96.6</td>\n",
       "      <td>15.4</td>\n",
       "      <td>15.5</td>\n",
       "      <td>15.4</td>\n",
       "    </tr>\n",
       "    <tr>\n",
       "      <th>2</th>\n",
       "      <td>Riket</td>\n",
       "      <td>Enskild</td>\n",
       "      <td>22582</td>\n",
       "      <td>11165</td>\n",
       "      <td>11417</td>\n",
       "      <td>98.7</td>\n",
       "      <td>98.8</td>\n",
       "      <td>98.7</td>\n",
       "      <td>16.9</td>\n",
       "      <td>17.0</td>\n",
       "      <td>16.8</td>\n",
       "    </tr>\n",
       "    <tr>\n",
       "      <th>3</th>\n",
       "      <td>Riket</td>\n",
       "      <td>Skolverket</td>\n",
       "      <td>49</td>\n",
       "      <td>24</td>\n",
       "      <td>25</td>\n",
       "      <td>100.0</td>\n",
       "      <td>100.0</td>\n",
       "      <td>100.0</td>\n",
       "      <td>18.5</td>\n",
       "      <td>18.9</td>\n",
       "      <td>18.2</td>\n",
       "    </tr>\n",
       "  </tbody>\n",
       "</table>\n",
       "</div>"
      ],
      "text/plain": [
       "   Plats    Huvudman  Totalt (A-F)  Flickor (A-F)  Pojkar (A-F)  Totalt (A-E)  \\\n",
       "0  Riket    Samtliga        106941          51864         55077          97.0   \n",
       "1  Riket    Kommunal         84310          40675         43635          96.6   \n",
       "2  Riket     Enskild         22582          11165         11417          98.7   \n",
       "3  Riket  Skolverket            49             24            25         100.0   \n",
       "\n",
       "   Flickor (A-E)  Pojkar (A-E)  Totalt (poäng)  Flickor (poäng)  \\\n",
       "0           97.1          97.0            15.7             15.8   \n",
       "1           96.6          96.6            15.4             15.5   \n",
       "2           98.8          98.7            16.9             17.0   \n",
       "3          100.0         100.0            18.5             18.9   \n",
       "\n",
       "   Pojkar (poäng)  \n",
       "0            15.7  \n",
       "1            15.4  \n",
       "2            16.8  \n",
       "3            18.2  "
      ]
     },
     "execution_count": 7,
     "metadata": {},
     "output_type": "execute_result"
    }
   ],
   "source": [
    "#Kontrollutskrift för att se att kolumnerna har bytt namn\n",
    "data_frames[\"Engelska\"].head()\n"
   ]
  },
  {
   "cell_type": "code",
   "execution_count": 8,
   "metadata": {},
   "outputs": [
    {
     "data": {
      "text/html": [
       "<div>\n",
       "<style scoped>\n",
       "    .dataframe tbody tr th:only-of-type {\n",
       "        vertical-align: middle;\n",
       "    }\n",
       "\n",
       "    .dataframe tbody tr th {\n",
       "        vertical-align: top;\n",
       "    }\n",
       "\n",
       "    .dataframe thead th {\n",
       "        text-align: right;\n",
       "    }\n",
       "</style>\n",
       "<table border=\"1\" class=\"dataframe\">\n",
       "  <thead>\n",
       "    <tr style=\"text-align: right;\">\n",
       "      <th></th>\n",
       "      <th>Plats</th>\n",
       "      <th>Huvudman</th>\n",
       "      <th>Totalt (A-F)</th>\n",
       "      <th>Flickor (A-F)</th>\n",
       "      <th>Pojkar (A-F)</th>\n",
       "      <th>Totalt (A-E)</th>\n",
       "      <th>Flickor (A-E)</th>\n",
       "      <th>Pojkar (A-E)</th>\n",
       "      <th>Totalt (poäng)</th>\n",
       "      <th>Flickor (poäng)</th>\n",
       "      <th>Pojkar (poäng)</th>\n",
       "    </tr>\n",
       "  </thead>\n",
       "  <tbody>\n",
       "    <tr>\n",
       "      <th>0</th>\n",
       "      <td>Riket</td>\n",
       "      <td>Samtliga</td>\n",
       "      <td>14092.0</td>\n",
       "      <td>6447.0</td>\n",
       "      <td>7645.0</td>\n",
       "      <td>77.7</td>\n",
       "      <td>81.6</td>\n",
       "      <td>74.3</td>\n",
       "      <td>9.4</td>\n",
       "      <td>10.2</td>\n",
       "      <td>8.7</td>\n",
       "    </tr>\n",
       "    <tr>\n",
       "      <th>1</th>\n",
       "      <td>Riket</td>\n",
       "      <td>Kommunal</td>\n",
       "      <td>11963.0</td>\n",
       "      <td>5495.0</td>\n",
       "      <td>6468.0</td>\n",
       "      <td>75.9</td>\n",
       "      <td>80.0</td>\n",
       "      <td>72.4</td>\n",
       "      <td>9.0</td>\n",
       "      <td>9.9</td>\n",
       "      <td>8.3</td>\n",
       "    </tr>\n",
       "    <tr>\n",
       "      <th>2</th>\n",
       "      <td>Riket</td>\n",
       "      <td>Enskild</td>\n",
       "      <td>2122.0</td>\n",
       "      <td>949.0</td>\n",
       "      <td>1173.0</td>\n",
       "      <td>87.7</td>\n",
       "      <td>90.9</td>\n",
       "      <td>85.2</td>\n",
       "      <td>11.1</td>\n",
       "      <td>12.0</td>\n",
       "      <td>10.4</td>\n",
       "    </tr>\n",
       "  </tbody>\n",
       "</table>\n",
       "</div>"
      ],
      "text/plain": [
       "   Plats  Huvudman  Totalt (A-F)  Flickor (A-F)  Pojkar (A-F)  Totalt (A-E)  \\\n",
       "0  Riket  Samtliga       14092.0         6447.0        7645.0          77.7   \n",
       "1  Riket  Kommunal       11963.0         5495.0        6468.0          75.9   \n",
       "2  Riket   Enskild        2122.0          949.0        1173.0          87.7   \n",
       "\n",
       "   Flickor (A-E)  Pojkar (A-E)  Totalt (poäng)  Flickor (poäng)  \\\n",
       "0           81.6          74.3             9.4             10.2   \n",
       "1           80.0          72.4             9.0              9.9   \n",
       "2           90.9          85.2            11.1             12.0   \n",
       "\n",
       "   Pojkar (poäng)  \n",
       "0             8.7  \n",
       "1             8.3  \n",
       "2            10.4  "
      ]
     },
     "execution_count": 61,
     "metadata": {},
     "output_type": "execute_result"
    }
   ],
   "source": [
    "#Utskrift av dataframe \"Svenska som andra språk, eftersom jag sedan tidigare vet att tabellen har icke-numeriska värden. \"\n",
    "data_frames[\"Svenska som andraspråk\"]\n",
    "\n"
   ]
  },
  {
   "cell_type": "markdown",
   "metadata": {},
   "source": [
    "#### Bearbetning av datan i dataframe \"Svenska som andra språk\". \n",
    "I den här delen ersätts icke-numeriska värden till NaN.    \n",
    "Rader med Nan droppas.    \n",
    "Konverterar även datatyper från object till float.    \n"
   ]
  },
  {
   "cell_type": "code",
   "execution_count": 9,
   "metadata": {},
   "outputs": [
    {
     "data": {
      "text/html": [
       "<div>\n",
       "<style scoped>\n",
       "    .dataframe tbody tr th:only-of-type {\n",
       "        vertical-align: middle;\n",
       "    }\n",
       "\n",
       "    .dataframe tbody tr th {\n",
       "        vertical-align: top;\n",
       "    }\n",
       "\n",
       "    .dataframe thead th {\n",
       "        text-align: right;\n",
       "    }\n",
       "</style>\n",
       "<table border=\"1\" class=\"dataframe\">\n",
       "  <thead>\n",
       "    <tr style=\"text-align: right;\">\n",
       "      <th></th>\n",
       "      <th>Plats</th>\n",
       "      <th>Huvudman</th>\n",
       "      <th>Totalt (A-F)</th>\n",
       "      <th>Flickor (A-F)</th>\n",
       "      <th>Pojkar (A-F)</th>\n",
       "      <th>Totalt (A-E)</th>\n",
       "      <th>Flickor (A-E)</th>\n",
       "      <th>Pojkar (A-E)</th>\n",
       "      <th>Totalt (poäng)</th>\n",
       "      <th>Flickor (poäng)</th>\n",
       "      <th>Pojkar (poäng)</th>\n",
       "    </tr>\n",
       "  </thead>\n",
       "  <tbody>\n",
       "    <tr>\n",
       "      <th>0</th>\n",
       "      <td>Riket</td>\n",
       "      <td>Samtliga</td>\n",
       "      <td>14092.0</td>\n",
       "      <td>6447.0</td>\n",
       "      <td>7645.0</td>\n",
       "      <td>77.7</td>\n",
       "      <td>81.6</td>\n",
       "      <td>74.3</td>\n",
       "      <td>9.4</td>\n",
       "      <td>10.2</td>\n",
       "      <td>8.7</td>\n",
       "    </tr>\n",
       "    <tr>\n",
       "      <th>1</th>\n",
       "      <td>Riket</td>\n",
       "      <td>Kommunal</td>\n",
       "      <td>11963.0</td>\n",
       "      <td>5495.0</td>\n",
       "      <td>6468.0</td>\n",
       "      <td>75.9</td>\n",
       "      <td>80.0</td>\n",
       "      <td>72.4</td>\n",
       "      <td>9.0</td>\n",
       "      <td>9.9</td>\n",
       "      <td>8.3</td>\n",
       "    </tr>\n",
       "    <tr>\n",
       "      <th>2</th>\n",
       "      <td>Riket</td>\n",
       "      <td>Enskild</td>\n",
       "      <td>2122.0</td>\n",
       "      <td>949.0</td>\n",
       "      <td>1173.0</td>\n",
       "      <td>87.7</td>\n",
       "      <td>90.9</td>\n",
       "      <td>85.2</td>\n",
       "      <td>11.1</td>\n",
       "      <td>12.0</td>\n",
       "      <td>10.4</td>\n",
       "    </tr>\n",
       "  </tbody>\n",
       "</table>\n",
       "</div>"
      ],
      "text/plain": [
       "   Plats  Huvudman  Totalt (A-F)  Flickor (A-F)  Pojkar (A-F)  Totalt (A-E)  \\\n",
       "0  Riket  Samtliga       14092.0         6447.0        7645.0          77.7   \n",
       "1  Riket  Kommunal       11963.0         5495.0        6468.0          75.9   \n",
       "2  Riket   Enskild        2122.0          949.0        1173.0          87.7   \n",
       "\n",
       "   Flickor (A-E)  Pojkar (A-E)  Totalt (poäng)  Flickor (poäng)  \\\n",
       "0           81.6          74.3             9.4             10.2   \n",
       "1           80.0          72.4             9.0              9.9   \n",
       "2           90.9          85.2            11.1             12.0   \n",
       "\n",
       "   Pojkar (poäng)  \n",
       "0             8.7  \n",
       "1             8.3  \n",
       "2            10.4  "
      ]
     },
     "execution_count": 60,
     "metadata": {},
     "output_type": "execute_result"
    }
   ],
   "source": [
    "#Loopar igenom samtliga sheets för att ersätta ickenumeriska värden med NaN\n",
    "for sheet, df in data_frames.items():\n",
    "    df.replace(\"..\", np.nan, inplace= True) \n",
    "\n",
    "data_frames[\"Svenska som andraspråk\"]"
   ]
  },
  {
   "cell_type": "code",
   "execution_count": 62,
   "metadata": {},
   "outputs": [
    {
     "data": {
      "text/html": [
       "<div>\n",
       "<style scoped>\n",
       "    .dataframe tbody tr th:only-of-type {\n",
       "        vertical-align: middle;\n",
       "    }\n",
       "\n",
       "    .dataframe tbody tr th {\n",
       "        vertical-align: top;\n",
       "    }\n",
       "\n",
       "    .dataframe thead th {\n",
       "        text-align: right;\n",
       "    }\n",
       "</style>\n",
       "<table border=\"1\" class=\"dataframe\">\n",
       "  <thead>\n",
       "    <tr style=\"text-align: right;\">\n",
       "      <th></th>\n",
       "      <th>Plats</th>\n",
       "      <th>Huvudman</th>\n",
       "      <th>Totalt (A-F)</th>\n",
       "      <th>Flickor (A-F)</th>\n",
       "      <th>Pojkar (A-F)</th>\n",
       "      <th>Totalt (A-E)</th>\n",
       "      <th>Flickor (A-E)</th>\n",
       "      <th>Pojkar (A-E)</th>\n",
       "      <th>Totalt (poäng)</th>\n",
       "      <th>Flickor (poäng)</th>\n",
       "      <th>Pojkar (poäng)</th>\n",
       "    </tr>\n",
       "  </thead>\n",
       "  <tbody>\n",
       "    <tr>\n",
       "      <th>0</th>\n",
       "      <td>Riket</td>\n",
       "      <td>Samtliga</td>\n",
       "      <td>14092.0</td>\n",
       "      <td>6447.0</td>\n",
       "      <td>7645.0</td>\n",
       "      <td>77.7</td>\n",
       "      <td>81.6</td>\n",
       "      <td>74.3</td>\n",
       "      <td>9.4</td>\n",
       "      <td>10.2</td>\n",
       "      <td>8.7</td>\n",
       "    </tr>\n",
       "    <tr>\n",
       "      <th>1</th>\n",
       "      <td>Riket</td>\n",
       "      <td>Kommunal</td>\n",
       "      <td>11963.0</td>\n",
       "      <td>5495.0</td>\n",
       "      <td>6468.0</td>\n",
       "      <td>75.9</td>\n",
       "      <td>80.0</td>\n",
       "      <td>72.4</td>\n",
       "      <td>9.0</td>\n",
       "      <td>9.9</td>\n",
       "      <td>8.3</td>\n",
       "    </tr>\n",
       "    <tr>\n",
       "      <th>2</th>\n",
       "      <td>Riket</td>\n",
       "      <td>Enskild</td>\n",
       "      <td>2122.0</td>\n",
       "      <td>949.0</td>\n",
       "      <td>1173.0</td>\n",
       "      <td>87.7</td>\n",
       "      <td>90.9</td>\n",
       "      <td>85.2</td>\n",
       "      <td>11.1</td>\n",
       "      <td>12.0</td>\n",
       "      <td>10.4</td>\n",
       "    </tr>\n",
       "  </tbody>\n",
       "</table>\n",
       "</div>"
      ],
      "text/plain": [
       "   Plats  Huvudman  Totalt (A-F)  Flickor (A-F)  Pojkar (A-F)  Totalt (A-E)  \\\n",
       "0  Riket  Samtliga       14092.0         6447.0        7645.0          77.7   \n",
       "1  Riket  Kommunal       11963.0         5495.0        6468.0          75.9   \n",
       "2  Riket   Enskild        2122.0          949.0        1173.0          87.7   \n",
       "\n",
       "   Flickor (A-E)  Pojkar (A-E)  Totalt (poäng)  Flickor (poäng)  \\\n",
       "0           81.6          74.3             9.4             10.2   \n",
       "1           80.0          72.4             9.0              9.9   \n",
       "2           90.9          85.2            11.1             12.0   \n",
       "\n",
       "   Pojkar (poäng)  \n",
       "0             8.7  \n",
       "1             8.3  \n",
       "2            10.4  "
      ]
     },
     "execution_count": 62,
     "metadata": {},
     "output_type": "execute_result"
    }
   ],
   "source": [
    "#Tar bort alla null-värden från tabellerna.\n",
    "df.dropna(inplace=True)\n",
    "\n",
    "#Utskrift av \"Svenska som andra språk\" för att säkerställa att raden Skolverket är tom. \n",
    "data_frames[\"Svenska som andraspråk\"]\n"
   ]
  },
  {
   "cell_type": "code",
   "execution_count": 63,
   "metadata": {},
   "outputs": [],
   "source": [
    "#Konverterar datatyperna i \"Svenska som andraspråk\" från object till int\n",
    "if sheet == \"Svenska som andraspråk\":\n",
    "    numeric_cols = [\"Totalt (poäng)\", \"Flickor (poäng)\", \"Pojkar (poäng)\"]\n",
    "    for col in numeric_cols:\n",
    "        df[col] = pd.to_numeric(df[col], errors=\"coerce\")  "
   ]
  },
  {
   "cell_type": "markdown",
   "metadata": {},
   "source": [
    "#### Visualisering av datan"
   ]
  },
  {
   "cell_type": "code",
   "execution_count": 66,
   "metadata": {},
   "outputs": [
    {
     "data": {
      "image/png": "[encoded data removed]",
      "text/plain": [
       "<Figure size 1200x800 with 4 Axes>"
      ]
     },
     "metadata": {},
     "output_type": "display_data"
    }
   ],
   "source": [
    "#Skapar en subplot för att kunna skapa diagram för respektive ämne i en och samma plott. \n",
    "fig, axes = plt.subplots(2, 2, figsize=(12, 8))  \n",
    "fig.suptitle(\"Totala poäng för olika huvudmän i olika ämnen\", fontsize=20, fontweight = \"bold\")\n",
    "\n",
    "# Plottar varje ämne i en subplot\n",
    "for ax, (subject, df) in zip(axes.flatten(), data_frames.items()):\n",
    "    ax.spines[\"top\"].set_visible(False)\n",
    "    ax.spines[\"right\"].set_visible(False)\n",
    "    df.plot(kind=\"bar\", x=\"Huvudman\", y=\"Totalt (poäng)\", ax=ax, legend=False, color=[\"#3A606E\", \"#6B9080\", \"#A4C3B2\", \"#F6E8C3\"] \n",
    "\n",
    " )\n",
    "    ax.set_title(subject, loc=\"left\")  # Använd 'subject' som titel\n",
    "    ax.set_ylabel(\"Totalt (poäng)\", fontsize=10, fontstyle = \"italic\")\n",
    "    ax.set_xlabel(\"Huvudman\", fontsize=10, fontstyle = \"italic\")\n",
    "    ax.xaxis.set_label_coords(-0.04, -0.10) #Tog hjälp av chatGPT för att kunna vänsterjustera labeln. \n",
    "    ax.set_ylim(0, 18) #Tog hjälp av chatGPT för att sätta samma värden på y-axeln, då det blir enklare att jämföra datan i respektive diagram. \n",
    "    ax.tick_params(axis=\"x\", rotation=45)  # Rotera texten så den syns tydligt\n",
    "\n",
    "plt.tight_layout(rect=[0, 0, 1, 0.96])  # Justerar layouten för att undvika överlapp\n",
    "plt.show()  # Visa plotten\n",
    "\n"
   ]
  },
  {
   "cell_type": "code",
   "execution_count": null,
   "metadata": {},
   "outputs": [
    {
     "data": {
      "text/plain": [
       "<Figure size 640x480 with 0 Axes>"
      ]
     },
     "metadata": {},
     "output_type": "display_data"
    }
   ],
   "source": [
    "#Sparar figuren som png.\n",
    "plt.savefig('Totala_poäng_per_huvuman.png')"
   ]
  }
 ],
 "metadata": {
  "kernelspec": {
   "display_name": "venv",
   "language": "python",
   "name": "python3"
  },
  "language_info": {
   "codemirror_mode": {
    "name": "ipython",
    "version": 3
   },
   "file_extension": ".py",
   "mimetype": "text/x-python",
   "name": "python",
   "nbconvert_exporter": "python",
   "pygments_lexer": "ipython3",
   "version": "3.12.2"
  }
 },
 "nbformat": 4,
 "nbformat_minor": 2
}
